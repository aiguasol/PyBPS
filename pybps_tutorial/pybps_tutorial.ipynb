{
 "cells": [
  {
   "cell_type": "markdown",
   "metadata": {},
   "source": [
    "# PyBPS Tutorial"
   ]
  },
  {
   "cell_type": "markdown",
   "metadata": {},
   "source": [
    "# 1. Initialization\n",
    "\n",
    "The first thing to do is obviously to import the `pybps` package.\n",
    "At the same time, we also import other useful packages."
   ]
  },
  {
   "cell_type": "code",
   "execution_count": 1,
   "metadata": {
    "collapsed": false
   },
   "outputs": [],
   "source": [
    "import pybps\n",
    "\n",
    "import os\n",
    "import sys\n",
    "import re\n",
    "import sqlite3\n",
    "import pandas as pd\n",
    "from pandas.io import sql\n",
    "import matplotlib.pyplot as plt"
   ]
  },
  {
   "cell_type": "markdown",
   "metadata": {},
   "source": [
    "Once the `pybps` is imported into `python`, the first thing to do is to create an instance of the `BPSProject` class to get all the information required to run a particular simulation project from the project directory and hold it in a series of instance variables. This way, the project information will be easily retrieved when the different functions that manage simulation pre/post-processing and running are called.  \n",
    "\n",
    "The simplest and quickest way to get ready is to instanciate the `BPSProject` class with the `path` and `batch` arguments defined. `path` is the path (relative or absolute) to the directory holding the simulation files for a particular project. `batch` is a flag which sets whether the simulation project corresponds to a single run (`batch = False`, which is the default value) or to a batch run (`batch = True`).  \n",
    "\n",
    "In the present tutorial, we will use the very simple `Begin` example `TRNSYS` project that can be found in the `Examples` directory of any `TRNSYS` installation. We just made some modifications to the output (using Type46) and added parameters in an external `parameters.txt` file for the batch run. This example project can be found in the `Examples/TRNSYS` folder found in the `PyBPS` package. Note that as of today, `PyBPS` has only been tested with `TRNSYS` simulation projects, altought its functionnalities could easily be used with any other text-file-based simulation tool."
   ]
  },
  {
   "cell_type": "code",
   "execution_count": 2,
   "metadata": {
    "collapsed": false
   },
   "outputs": [],
   "source": [
    "bps = pybps.BPSProject('Examples/TRNSYS/Begin', batch=True)"
   ]
  },
  {
   "cell_type": "markdown",
   "metadata": {},
   "source": [
    "Another way to create an instance of the `BPSProject` class is to call it without any arguments and then use the `path` and `batch` methods to set both variables. In the case of the `batch` method, calling it sets `batch` to `True` (since by default it is set to `False`, which corresponds to a single simulation run)."
   ]
  },
  {
   "cell_type": "code",
   "execution_count": 3,
   "metadata": {
    "collapsed": false
   },
   "outputs": [],
   "source": [
    "bps = pybps.BPSProject()\n",
    "bps.path('Examples/TRNSYS/Begin')\n",
    "bps.batch()"
   ]
  },
  {
   "cell_type": "markdown",
   "metadata": {},
   "source": [
    "Once we have got our `bps` object created, we can check the simulation project info obtained from the project folder and stored in the object's attributes. Behind the scenes, the `BPSProject` class uses two hidden methods to detect the simulation tool to be used (based on file extensions found in given directory) and to get the info required to run single or batch runs. The basic info needed to run any tool is contained in the `config.ini` file is the base folder of the `pybps` package.  \n",
    "\n",
    "If the project is of the \"single run\" type, the following instance variables hold the basic info needed to actually run the simulation:"
   ]
  },
  {
   "cell_type": "code",
   "execution_count": 3,
   "metadata": {
    "collapsed": false
   },
   "outputs": [
    {
     "data": {
      "text/plain": [
       "'D:\\\\GithubRepo\\\\PyBPS\\\\Examples\\\\TRNSYS\\\\Begin'"
      ]
     },
     "execution_count": 3,
     "metadata": {},
     "output_type": "execute_result"
    }
   ],
   "source": [
    "# Path to the folder containing simulation files\n",
    "bps.path"
   ]
  },
  {
   "cell_type": "code",
   "execution_count": 4,
   "metadata": {
    "collapsed": false
   },
   "outputs": [
    {
     "data": {
      "text/plain": [
       "'TRNSYS'"
      ]
     },
     "execution_count": 4,
     "metadata": {},
     "output_type": "execute_result"
    }
   ],
   "source": [
    "# Simulation tool name\n",
    "bps.sim_tool"
   ]
  },
  {
   "cell_type": "code",
   "execution_count": 5,
   "metadata": {
    "collapsed": false
   },
   "outputs": [
    {
     "data": {
      "text/plain": [
       "'D:\\\\GithubRepo\\\\PyBPS\\\\Examples\\\\TRNSYS\\\\Begin\\\\Begin.dck'"
      ]
     },
     "execution_count": 5,
     "metadata": {},
     "output_type": "execute_result"
    }
   ],
   "source": [
    "# Simulation input file path\n",
    "bps.simfile_path"
   ]
  },
  {
   "cell_type": "code",
   "execution_count": 6,
   "metadata": {
    "collapsed": false
   },
   "outputs": [
    {
     "data": {
      "text/plain": [
       "{'executable': 'C:\\\\TRNSYS\\\\Exe\\\\TRNExe.exe',\n",
       " 'install_folder': 'C:\\\\TRNSYS',\n",
       " 'nostop_flag': '/n',\n",
       " 'paramfile_searchstring': '_PAR',\n",
       " 'silent_flag': '/h',\n",
       " 'siminput_extensions': 'dck, trd',\n",
       " 'simlog_extensions': 'log',\n",
       " 'simoutput_extensions': 'out, sum',\n",
       " 'tempfiles_searchstring': '_TMP'}"
      ]
     },
     "execution_count": 6,
     "metadata": {},
     "output_type": "execute_result"
    }
   ],
   "source": [
    "# Basic config info needed to call the proper commands to run the simulation tool and identify the basic simulation files.\n",
    "# This info is contained in the \"config.ini\" file.\n",
    "bps.config"
   ]
  },
  {
   "cell_type": "code",
   "execution_count": 7,
   "metadata": {
    "collapsed": false
   },
   "outputs": [
    {
     "data": {
      "text/plain": [
       "'C:\\\\TRNSYS\\\\Exe\\\\TRNExe.exe'"
      ]
     },
     "execution_count": 7,
     "metadata": {},
     "output_type": "execute_result"
    }
   ],
   "source": [
    "# Particular configuration parameters can be acceded like in any python dictionnary\n",
    "bps.config['executable']"
   ]
  },
  {
   "cell_type": "markdown",
   "metadata": {},
   "source": [
    "If the simulation project happens to be a batch run, an additional set of instance variables is created to hold information about the template and parameter files, as well as the list of jobs to be run. In `pybps`, template files are simulation files containing parameters to be replaced prior to running simulation. Parameters are identified as strings surrounded by `%` signs, like `%PAR%` for example. The user has to create the template files (replacing acordingly the simulation parameters with parameters search strings) prior to calling the `pybps` package and place a parameter file in csv format in the project folder. Template and parameter files should contain a specific search string in their filename to be recognized as such by `pybps`. By default, users should include `_TMP` in template filenames and `_PAR` in parameter filenames. These are just the default settings and can be modified in the `config.ini` file.\n",
    "\n",
    "If the simulation project was identified by the user as corresponding to a batch run (`batch = True`) and `pybps` can't find any template or parameter file, it will give an error message and exit."
   ]
  },
  {
   "cell_type": "code",
   "execution_count": 9,
   "metadata": {
    "collapsed": false
   },
   "outputs": [
    {
     "data": {
      "text/plain": [
       "'ed516570-83b5-11e2-8558-b6655f73eeeb'"
      ]
     },
     "execution_count": 9,
     "metadata": {},
     "output_type": "execute_result"
    }
   ],
   "source": [
    "# Unique ID for the batch to be run. Allows for succesive batch runs with different sets of parameters to be run within a same directory without the risk to overwrite cases.\n",
    "# Also helps for storing info in sql databases\n",
    "bps.series_id"
   ]
  },
  {
   "cell_type": "code",
   "execution_count": 10,
   "metadata": {
    "collapsed": false
   },
   "outputs": [
    {
     "data": {
      "text/plain": [
       "['D:\\\\GithubRepo\\\\PyBPS\\\\Examples\\\\TRNSYS\\\\Begin\\\\parameters_TMP.txt',\n",
       " 'D:\\\\GithubRepo\\\\PyBPS\\\\Examples\\\\TRNSYS\\\\Begin\\\\Building\\\\BuildingModel_TMP.b17']"
      ]
     },
     "execution_count": 10,
     "metadata": {},
     "output_type": "execute_result"
    }
   ],
   "source": [
    "# List of paths to the template files found in the project directory\n",
    "bps.tmpfiles_pathlist"
   ]
  },
  {
   "cell_type": "code",
   "execution_count": 11,
   "metadata": {
    "collapsed": false
   },
   "outputs": [
    {
     "data": {
      "text/plain": [
       "'D:\\\\GithubRepo\\\\PyBPS\\\\Examples\\\\TRNSYS\\\\Begin\\\\Begin_PAR.csv'"
      ]
     },
     "execution_count": 11,
     "metadata": {},
     "output_type": "execute_result"
    }
   ],
   "source": [
    "# Path to parameter file\n",
    "bps.paramfile_path"
   ]
  },
  {
   "cell_type": "code",
   "execution_count": 12,
   "metadata": {
    "collapsed": false
   },
   "outputs": [
    {
     "data": {
      "text/plain": [
       "[{'COL_AR': '1.5', 'MAX_HRATE': '3000', 'TEMP': '15'},\n",
       " {'COL_AR': '2', 'MAX_HRATE': '3000', 'TEMP': '16'},\n",
       " {'COL_AR': '2.5', 'MAX_HRATE': '3000', 'TEMP': '17'},\n",
       " {'COL_AR': '3', 'MAX_HRATE': '3000', 'TEMP': '18'},\n",
       " {'COL_AR': '1.5', 'MAX_HRATE': '4000', 'TEMP': '19'},\n",
       " {'COL_AR': '2', 'MAX_HRATE': '4000', 'TEMP': '20'},\n",
       " {'COL_AR': '2.5', 'MAX_HRATE': '4000', 'TEMP': '21'},\n",
       " {'COL_AR': '3', 'MAX_HRATE': '4000', 'TEMP': '22'},\n",
       " {'COL_AR': '1.5', 'MAX_HRATE': '5000', 'TEMP': '23'},\n",
       " {'COL_AR': '2', 'MAX_HRATE': '5000', 'TEMP': '24'},\n",
       " {'COL_AR': '2.5', 'MAX_HRATE': '5000', 'TEMP': '25'},\n",
       " {'COL_AR': '3', 'MAX_HRATE': '5000', 'TEMP': '26'},\n",
       " {'COL_AR': '1.5', 'MAX_HRATE': '6000', 'TEMP': '27'},\n",
       " {'COL_AR': '2', 'MAX_HRATE': '6000', 'TEMP': '28'},\n",
       " {'COL_AR': '2.5', 'MAX_HRATE': '6000', 'TEMP': '29'},\n",
       " {'COL_AR': '3', 'MAX_HRATE': '6000', 'TEMP': '30'}]"
      ]
     },
     "execution_count": 12,
     "metadata": {},
     "output_type": "execute_result"
    }
   ],
   "source": [
    "# List of jobs to be run\n",
    "# This is actually a list of dicts containing all the parameters for the current batch run\n",
    "bps.job_list"
   ]
  },
  {
   "cell_type": "code",
   "execution_count": 13,
   "metadata": {
    "collapsed": false
   },
   "outputs": [
    {
     "data": {
      "text/plain": [
       "16"
      ]
     },
     "execution_count": 13,
     "metadata": {},
     "output_type": "execute_result"
    }
   ],
   "source": [
    "# Number of simulation jobs to be run\n",
    "bps.njob"
   ]
  },
  {
   "cell_type": "markdown",
   "metadata": {},
   "source": [
    "## 2. Pre-process Simulation Data\n"
   ]
  },
  {
   "cell_type": "code",
   "execution_count": 16,
   "metadata": {
    "collapsed": false
   },
   "outputs": [
    {
     "data": {
      "text/plain": [
       "'D:\\\\GithubRepo\\\\PyBPS\\\\Examples\\\\TRNSYS\\\\Begin_PARAM\\\\SIM00001'"
      ]
     },
     "execution_count": 16,
     "metadata": {},
     "output_type": "execute_result"
    }
   ],
   "source": [
    "job = pybps.BPSJob('Examples/TRNSYS/Begin_PARAM/SIM00001')\n",
    "job.path"
   ]
  },
  {
   "cell_type": "markdown",
   "metadata": {},
   "source": [
    "## 3. Run Simulation Jobs\n"
   ]
  },
  {
   "cell_type": "code",
   "execution_count": null,
   "metadata": {
    "collapsed": false
   },
   "outputs": [],
   "source": [
    "bpsbatch.job[1].run()"
   ]
  },
  {
   "cell_type": "code",
   "execution_count": null,
   "metadata": {
    "collapsed": false
   },
   "outputs": [],
   "source": [
    "bpsbatch.run()"
   ]
  }
 ],
 "metadata": {
  "anaconda-cloud": {},
  "kernelspec": {
   "display_name": "Python [default]",
   "language": "python",
   "name": "python2"
  },
  "language_info": {
   "codemirror_mode": {
    "name": "ipython",
    "version": 2
   },
   "file_extension": ".py",
   "mimetype": "text/x-python",
   "name": "python",
   "nbconvert_exporter": "python",
   "pygments_lexer": "ipython2",
   "version": "2.7.12"
  }
 },
 "nbformat": 4,
 "nbformat_minor": 0
}
